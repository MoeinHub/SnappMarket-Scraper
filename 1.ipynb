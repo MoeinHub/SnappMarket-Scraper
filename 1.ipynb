{
 "cells": [
  {
   "cell_type": "code",
   "execution_count": 21,
   "metadata": {},
   "outputs": [
    {
     "name": "stdout",
     "output_type": "stream",
     "text": [
      "{'metadata': {'pagination': {'total': 0, 'limit': 0, 'offset': 0, 'count': 0}, 'filter': {'options': [{'name': 'categories', 'label': 'دسته\\u200cبندی', 'type': 'checkbox-tree', 'data': {'options': []}}, {'name': 'brands', 'label': 'برند', 'type': 'checkbox-tree', 'data': {'options': []}}, {'name': 'tags', 'label': 'نوع', 'type': 'checkbox-tree', 'data': {'options': []}}, {'name': 'availability', 'label': 'فقط کالاهای موجود', 'type': 'checkbox'}, {'name': 'discount_having', 'label': 'فقط کالاهای تخفیف\\u200cدار', 'type': 'checkbox'}, {'name': 'price', 'label': 'قیمت', 'type': 'range', 'data': {'min': None, 'max': None}}], 'applied': {'categories': ['278864'], 'availability': False, 'discount_having': False, 'price': {'min': None, 'max': None}, 'term': '', 'tags': []}}, 'sort': {'options': [{'key': 'rank', 'label': 'پیش فرض'}, {'key': '-ordered_times', 'label': 'پرفروش\\u200cترین'}, {'key': '-discount_percent', 'label': 'بیشترین درصد تخفیف'}, {'key': '-discount_value', 'label': 'بیشترین مبلغ تخفیف'}, {'key': 'price', 'label': 'ارزان\\u200cترین'}, {'key': '-price', 'label': 'گران\\u200cترین'}], 'applied': 'rank'}, 'query_id': None, 'breadcrumb': [], 'index': False}, 'results': []}\n"
     ]
    }
   ],
   "source": [
    "import json\n",
    "import requests\n",
    "vendor=\"0r5ryz\"\n",
    "catid=278864\n",
    "offset=0\n",
    "limit=0\n",
    "\n",
    "res = requests.get(f'https://core.snapp.market/api/v2/vendors/{vendor}/products?limit={limit}&offset={offset}&categories[]={catid}')\n",
    "jres=res.json()\n",
    "print(jres)\n",
    "\n",
    "# res_cat_id=jres['metadata']['filter']['options'][0]['data']['options'][0]['id']\n",
    "# res_cat_title=jres['metadata']['filter']['options'][0]['data']['options'][0]['title']\n",
    "# res_total=jres['metadata']['pagination']['total']\n",
    "# while catid<278900:\n",
    "#     res = requests.get(f'https://core.snapp.market/api/v2/vendors/{vendor}/products?limit=1&offset={offset}&categories[]={catid}')\n",
    "#     jres=res.json()\n",
    "#     if res.status_code==200:\n",
    "#         print(jres)\n",
    "#         res_cat_id=jres['metadata']['filter']['options'][0]['data']['options']#[0]['id']\n",
    "#         # print(res_cat_id)\n",
    "#         res_cat_title=jres['metadata']['filter']['options'][0]['data']['options'][0]['title']\n",
    "#         res_total=jres['metadata']['pagination']['total']\n",
    "#         print(f\"{catid};{res_cat_id}:{res_cat_title};{catid==res_cat_id};{res_total}\")\n",
    "#     catid+=1"
   ]
  },
  {
   "cell_type": "code",
   "execution_count": 41,
   "metadata": {},
   "outputs": [
    {
     "name": "stdout",
     "output_type": "stream",
     "text": [
      "278859;278348:تنقلات;False;8154\n"
     ]
    }
   ],
   "source": [
    "if res.status_code==200:\n",
    "    print(f\"{catid};{res_cat_id}:{res_cat_title};{catid==res_cat_id};{res_total}\")"
   ]
  },
  {
   "cell_type": "code",
   "execution_count": null,
   "metadata": {},
   "outputs": [],
   "source": []
  }
 ],
 "metadata": {
  "kernelspec": {
   "display_name": "Python 3",
   "language": "python",
   "name": "python3"
  },
  "language_info": {
   "codemirror_mode": {
    "name": "ipython",
    "version": 3
   },
   "file_extension": ".py",
   "mimetype": "text/x-python",
   "name": "python",
   "nbconvert_exporter": "python",
   "pygments_lexer": "ipython3",
   "version": "3.10.7"
  },
  "orig_nbformat": 4
 },
 "nbformat": 4,
 "nbformat_minor": 2
}
